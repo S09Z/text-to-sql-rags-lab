{
 "cells": [
  {
   "cell_type": "code",
   "execution_count": 1,
   "metadata": {},
   "outputs": [],
   "source": [
    "from grafana_api.grafana_face import GrafanaFace"
   ]
  },
  {
   "cell_type": "code",
   "execution_count": null,
   "metadata": {},
   "outputs": [],
   "source": [
    "def setup_grafana_dashboard():\n",
    "    grafana_api = GrafanaFace(auth='YOUR_API_KEY', host='localhost:3000')\n",
    "    dashboard = {\n",
    "        \"dashboard\": {\n",
    "            \"id\": None,\n",
    "            \"uid\": None,\n",
    "            \"title\": \"Data Pipeline Dashboard\",\n",
    "            \"tags\": [\"data pipeline\"],\n",
    "            \"timezone\": \"browser\",\n",
    "            \"schemaVersion\": 16,\n",
    "            \"version\": 0,\n",
    "            \"refresh\": \"5s\",\n",
    "            \"panels\": [\n",
    "                {\n",
    "                    \"type\": \"graph\",\n",
    "                    \"title\": \"Task Duration\",\n",
    "                    \"targets\": [\n",
    "                        {\n",
    "                            \"expr\": \"airflow_task_duration{dag_id='data_pipeline'}\",\n",
    "                            \"interval\": \"\",\n",
    "                            \"legendFormat\": \"{{task_id}}\",\n",
    "                            \"refId\": \"A\"\n",
    "                        }\n",
    "                    ],\n",
    "                    \"xaxis\": {\n",
    "                        \"show\": True,\n",
    "                        \"mode\": \"time\"\n",
    "                    },\n",
    "                    \"yaxes\": [\n",
    "                        {\n",
    "                            \"show\": True,\n",
    "                            \"format\": \"s\"\n",
    "                        }\n",
    "                    ]\n",
    "                }\n",
    "            ]\n",
    "        }\n",
    "    }\n",
    "    grafana_api.dashboard.update_dashboard(dashboard)\n",
    "    print(\"Grafana dashboard set up successfully\")\n",
    "\n",
    "setup_grafana_dashboard()"
   ]
  }
 ],
 "metadata": {
  "kernelspec": {
   "display_name": "data-helper-E9HeZA3E-py3.12",
   "language": "python",
   "name": "python3"
  },
  "language_info": {
   "codemirror_mode": {
    "name": "ipython",
    "version": 3
   },
   "file_extension": ".py",
   "mimetype": "text/x-python",
   "name": "python",
   "nbconvert_exporter": "python",
   "pygments_lexer": "ipython3",
   "version": "3.12.4"
  }
 },
 "nbformat": 4,
 "nbformat_minor": 2
}
