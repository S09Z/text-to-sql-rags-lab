{
 "cells": [
  {
   "cell_type": "code",
   "execution_count": 1,
   "metadata": {},
   "outputs": [],
   "source": [
    "\n",
    "from datahub.metadata.schema_classes import MetadataChangeEventClass\n",
    "from datahub.emitter.mce_builder import make_dataset_urn\n",
    "from datahub.emitter.rest_emitter import DatahubRestEmitter"
   ]
  },
  {
   "cell_type": "code",
   "execution_count": 2,
   "metadata": {},
   "outputs": [],
   "source": [
    "def register_dataset_in_datahub(dataset_name, dataset_urn, platform, emitter_endpoint):\n",
    "    emitter = DatahubRestEmitter(emitter_endpoint)\n",
    "    mce = MetadataChangeEventClass(\n",
    "        proposedSnapshot={\n",
    "            'urn': dataset_urn,\n",
    "            'aspects': [\n",
    "                {\n",
    "                    'com.linkedin.common.urn.DatasetUrn': {\n",
    "                        'name': dataset_name,\n",
    "                        'origin': 'PROD',\n",
    "                        'platform': platform,\n",
    "                        'urn': dataset_urn\n",
    "                    }\n",
    "                }\n",
    "            ]\n",
    "        }\n",
    "    )\n",
    "    emitter.emit(mce)\n",
    "    print(f\"Dataset {dataset_name} registered in DataHub\")"
   ]
  },
  {
   "cell_type": "code",
   "execution_count": null,
   "metadata": {},
   "outputs": [],
   "source": [
    "# Register datasets in DataHub\n",
    "dataset_name = 'example_dataset'\n",
    "dataset_urn = make_dataset_urn(platform='parquet', name=dataset_name, env='PROD')\n",
    "emitter_endpoint = 'http://localhost:8010'  # Replace with your DataHub endpoint\n",
    "\n",
    "register_dataset_in_datahub(dataset_name, dataset_urn, 'parquet', emitter_endpoint)"
   ]
  }
 ],
 "metadata": {
  "kernelspec": {
   "display_name": "data-helper-E9HeZA3E-py3.12",
   "language": "python",
   "name": "python3"
  },
  "language_info": {
   "codemirror_mode": {
    "name": "ipython",
    "version": 3
   },
   "file_extension": ".py",
   "mimetype": "text/x-python",
   "name": "python",
   "nbconvert_exporter": "python",
   "pygments_lexer": "ipython3",
   "version": "3.12.4"
  }
 },
 "nbformat": 4,
 "nbformat_minor": 2
}
