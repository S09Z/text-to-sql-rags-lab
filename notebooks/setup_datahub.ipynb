{
 "cells": [
  {
   "cell_type": "code",
   "execution_count": null,
   "metadata": {},
   "outputs": [],
   "source": [
    "\n",
    "from datahub.metadata.schema_classes import MetadataChangeEventClass\n",
    "from datahub.emitter.mce_builder import make_dataset_urn\n",
    "from datahub.emitter.rest_emitter import DatahubRestEmitter"
   ]
  },
  {
   "cell_type": "code",
   "execution_count": null,
   "metadata": {},
   "outputs": [],
   "source": [
    "def register_dataset_in_datahub(dataset_name, dataset_urn, platform, emitter_endpoint):\n",
    "    emitter = DatahubRestEmitter(emitter_endpoint)\n",
    "    mce = MetadataChangeEventClass(\n",
    "        proposedSnapshot={\n",
    "            'urn': dataset_urn,\n",
    "            'aspects': [\n",
    "                {\n",
    "                    'com.linkedin.common.urn.DatasetUrn': {\n",
    "                        'name': dataset_name,\n",
    "                        'origin': 'PROD',\n",
    "                        'platform': platform,\n",
    "                        'urn': dataset_urn\n",
    "                    }\n",
    "                }\n",
    "            ]\n",
    "        }\n",
    "    )\n",
    "    emitter.emit(mce)\n",
    "    print(f\"Dataset {dataset_name} registered in DataHub\")"
   ]
  }
 ],
 "metadata": {
  "language_info": {
   "name": "python"
  }
 },
 "nbformat": 4,
 "nbformat_minor": 2
}
