{
 "cells": [
  {
   "cell_type": "code",
   "execution_count": 1,
   "metadata": {},
   "outputs": [],
   "source": [
    "\n",
    "from datahub.metadata.schema_classes import MetadataChangeEventClass\n",
    "from datahub.emitter.mce_builder import make_dataset_urn\n",
    "from datahub.emitter.rest_emitter import DatahubRestEmitter"
   ]
  },
  {
   "cell_type": "code",
   "execution_count": 2,
   "metadata": {},
   "outputs": [],
   "source": [
    "def register_dataset_in_datahub(dataset_name, dataset_urn, platform, emitter_endpoint):\n",
    "    emitter = DatahubRestEmitter(emitter_endpoint)\n",
    "    mce = MetadataChangeEventClass(\n",
    "        proposedSnapshot={\n",
    "            'urn': dataset_urn,\n",
    "            'aspects': [\n",
    "                {\n",
    "                    'com.linkedin.common.urn.DatasetUrn': {\n",
    "                        'name': dataset_name,\n",
    "                        'origin': 'PROD',\n",
    "                        'platform': platform,\n",
    "                        'urn': dataset_urn\n",
    "                    }\n",
    "                }\n",
    "            ]\n",
    "        }\n",
    "    )\n",
    "    emitter.emit(mce)\n",
    "    print(f\"Dataset {dataset_name} registered in DataHub\")"
   ]
  },
  {
   "cell_type": "code",
   "execution_count": 3,
   "metadata": {},
   "outputs": [
    {
     "ename": "AttributeError",
     "evalue": "'dict' object has no attribute 'to_obj'",
     "output_type": "error",
     "traceback": [
      "\u001b[0;31m---------------------------------------------------------------------------\u001b[0m",
      "\u001b[0;31mAttributeError\u001b[0m                            Traceback (most recent call last)",
      "Cell \u001b[0;32mIn[3], line 6\u001b[0m\n\u001b[1;32m      3\u001b[0m dataset_urn \u001b[38;5;241m=\u001b[39m make_dataset_urn(platform\u001b[38;5;241m=\u001b[39m\u001b[38;5;124m'\u001b[39m\u001b[38;5;124mparquet\u001b[39m\u001b[38;5;124m'\u001b[39m, name\u001b[38;5;241m=\u001b[39mdataset_name, env\u001b[38;5;241m=\u001b[39m\u001b[38;5;124m'\u001b[39m\u001b[38;5;124mPROD\u001b[39m\u001b[38;5;124m'\u001b[39m)\n\u001b[1;32m      4\u001b[0m emitter_endpoint \u001b[38;5;241m=\u001b[39m \u001b[38;5;124m'\u001b[39m\u001b[38;5;124mhttp://localhost:8010\u001b[39m\u001b[38;5;124m'\u001b[39m  \u001b[38;5;66;03m# Replace with your DataHub endpoint\u001b[39;00m\n\u001b[0;32m----> 6\u001b[0m \u001b[43mregister_dataset_in_datahub\u001b[49m\u001b[43m(\u001b[49m\u001b[43mdataset_name\u001b[49m\u001b[43m,\u001b[49m\u001b[43m \u001b[49m\u001b[43mdataset_urn\u001b[49m\u001b[43m,\u001b[49m\u001b[43m \u001b[49m\u001b[38;5;124;43m'\u001b[39;49m\u001b[38;5;124;43mparquet\u001b[39;49m\u001b[38;5;124;43m'\u001b[39;49m\u001b[43m,\u001b[49m\u001b[43m \u001b[49m\u001b[43memitter_endpoint\u001b[49m\u001b[43m)\u001b[49m\n",
      "Cell \u001b[0;32mIn[2], line 18\u001b[0m, in \u001b[0;36mregister_dataset_in_datahub\u001b[0;34m(dataset_name, dataset_urn, platform, emitter_endpoint)\u001b[0m\n\u001b[1;32m      2\u001b[0m emitter \u001b[38;5;241m=\u001b[39m DatahubRestEmitter(emitter_endpoint)\n\u001b[1;32m      3\u001b[0m mce \u001b[38;5;241m=\u001b[39m MetadataChangeEventClass(\n\u001b[1;32m      4\u001b[0m     proposedSnapshot\u001b[38;5;241m=\u001b[39m{\n\u001b[1;32m      5\u001b[0m         \u001b[38;5;124m'\u001b[39m\u001b[38;5;124murn\u001b[39m\u001b[38;5;124m'\u001b[39m: dataset_urn,\n\u001b[0;32m   (...)\u001b[0m\n\u001b[1;32m     16\u001b[0m     }\n\u001b[1;32m     17\u001b[0m )\n\u001b[0;32m---> 18\u001b[0m \u001b[43memitter\u001b[49m\u001b[38;5;241;43m.\u001b[39;49m\u001b[43memit\u001b[49m\u001b[43m(\u001b[49m\u001b[43mmce\u001b[49m\u001b[43m)\u001b[49m\n\u001b[1;32m     19\u001b[0m \u001b[38;5;28mprint\u001b[39m(\u001b[38;5;124mf\u001b[39m\u001b[38;5;124m\"\u001b[39m\u001b[38;5;124mDataset \u001b[39m\u001b[38;5;132;01m{\u001b[39;00mdataset_name\u001b[38;5;132;01m}\u001b[39;00m\u001b[38;5;124m registered in DataHub\u001b[39m\u001b[38;5;124m\"\u001b[39m)\n",
      "File \u001b[0;32m~/Library/Caches/pypoetry/virtualenvs/data-helper-E9HeZA3E-py3.12/lib/python3.12/site-packages/datahub/emitter/rest_emitter.py:218\u001b[0m, in \u001b[0;36mDataHubRestEmitter.emit\u001b[0;34m(self, item, callback)\u001b[0m\n\u001b[1;32m    216\u001b[0m         \u001b[38;5;28mself\u001b[39m\u001b[38;5;241m.\u001b[39memit_mcp(item)\n\u001b[1;32m    217\u001b[0m     \u001b[38;5;28;01melse\u001b[39;00m:\n\u001b[0;32m--> 218\u001b[0m         \u001b[38;5;28;43mself\u001b[39;49m\u001b[38;5;241;43m.\u001b[39;49m\u001b[43memit_mce\u001b[49m\u001b[43m(\u001b[49m\u001b[43mitem\u001b[49m\u001b[43m)\u001b[49m\n\u001b[1;32m    219\u001b[0m \u001b[38;5;28;01mexcept\u001b[39;00m \u001b[38;5;167;01mException\u001b[39;00m \u001b[38;5;28;01mas\u001b[39;00m e:\n\u001b[1;32m    220\u001b[0m     \u001b[38;5;28;01mif\u001b[39;00m callback:\n",
      "File \u001b[0;32m~/Library/Caches/pypoetry/virtualenvs/data-helper-E9HeZA3E-py3.12/lib/python3.12/site-packages/datahub/emitter/rest_emitter.py:230\u001b[0m, in \u001b[0;36mDataHubRestEmitter.emit_mce\u001b[0;34m(self, mce)\u001b[0m\n\u001b[1;32m    227\u001b[0m \u001b[38;5;28;01mdef\u001b[39;00m \u001b[38;5;21memit_mce\u001b[39m(\u001b[38;5;28mself\u001b[39m, mce: MetadataChangeEvent) \u001b[38;5;241m-\u001b[39m\u001b[38;5;241m>\u001b[39m \u001b[38;5;28;01mNone\u001b[39;00m:\n\u001b[1;32m    228\u001b[0m     url \u001b[38;5;241m=\u001b[39m \u001b[38;5;124mf\u001b[39m\u001b[38;5;124m\"\u001b[39m\u001b[38;5;132;01m{\u001b[39;00m\u001b[38;5;28mself\u001b[39m\u001b[38;5;241m.\u001b[39m_gms_server\u001b[38;5;132;01m}\u001b[39;00m\u001b[38;5;124m/entities?action=ingest\u001b[39m\u001b[38;5;124m\"\u001b[39m\n\u001b[0;32m--> 230\u001b[0m     raw_mce_obj \u001b[38;5;241m=\u001b[39m \u001b[43mmce\u001b[49m\u001b[38;5;241;43m.\u001b[39;49m\u001b[43mproposedSnapshot\u001b[49m\u001b[38;5;241;43m.\u001b[39;49m\u001b[43mto_obj\u001b[49m()\n\u001b[1;32m    231\u001b[0m     mce_obj \u001b[38;5;241m=\u001b[39m pre_json_transform(raw_mce_obj)\n\u001b[1;32m    232\u001b[0m     snapshot_fqn \u001b[38;5;241m=\u001b[39m (\n\u001b[1;32m    233\u001b[0m         \u001b[38;5;124mf\u001b[39m\u001b[38;5;124m\"\u001b[39m\u001b[38;5;124mcom.linkedin.metadata.snapshot.\u001b[39m\u001b[38;5;132;01m{\u001b[39;00mmce\u001b[38;5;241m.\u001b[39mproposedSnapshot\u001b[38;5;241m.\u001b[39mRECORD_SCHEMA\u001b[38;5;241m.\u001b[39mname\u001b[38;5;132;01m}\u001b[39;00m\u001b[38;5;124m\"\u001b[39m\n\u001b[1;32m    234\u001b[0m     )\n",
      "\u001b[0;31mAttributeError\u001b[0m: 'dict' object has no attribute 'to_obj'"
     ]
    }
   ],
   "source": [
    "# Register datasets in DataHub\n",
    "dataset_name = 'example_dataset'\n",
    "dataset_urn = make_dataset_urn(platform='parquet', name=dataset_name, env='PROD')\n",
    "emitter_endpoint = 'http://localhost:8010'  # Replace with your DataHub endpoint\n",
    "\n",
    "register_dataset_in_datahub(dataset_name, dataset_urn, 'parquet', emitter_endpoint)"
   ]
  }
 ],
 "metadata": {
  "kernelspec": {
   "display_name": "data-helper-E9HeZA3E-py3.12",
   "language": "python",
   "name": "python3"
  },
  "language_info": {
   "codemirror_mode": {
    "name": "ipython",
    "version": 3
   },
   "file_extension": ".py",
   "mimetype": "text/x-python",
   "name": "python",
   "nbconvert_exporter": "python",
   "pygments_lexer": "ipython3",
   "version": "3.12.4"
  }
 },
 "nbformat": 4,
 "nbformat_minor": 2
}
